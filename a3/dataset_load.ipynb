{
 "cells": [
  {
   "cell_type": "markdown",
   "id": "70060883",
   "metadata": {},
   "source": [
    "## Data loading for default of credit card clients dataset "
   ]
  },
  {
   "cell_type": "markdown",
   "id": "d3284637",
   "metadata": {},
   "source": [
    "To use the data, simply load the pickle file"
   ]
  },
  {
   "cell_type": "code",
   "execution_count": 1,
   "id": "7fec513c",
   "metadata": {},
   "outputs": [],
   "source": [
    "import pickle\n",
    "with open(\"train_test_split.pkl\", \"br\") as fh:\n",
    "    data = pickle.load(fh)\n",
    "train_data = data[0]\n",
    "test_data = data[1]\n",
    "\n",
    "train_x = train_data[:,:23]\n",
    "train_y = train_data[:,23] # labels are either 0 or 1\n",
    "test_x = test_data[:,:23]\n",
    "test_y = test_data[:,23] # labels are either 0 or 1"
   ]
  }
 ],
 "metadata": {
  "kernelspec": {
   "display_name": "Python 3.9.6 64-bit",
   "language": "python",
   "name": "python3"
  },
  "language_info": {
   "codemirror_mode": {
    "name": "ipython",
    "version": 3
   },
   "file_extension": ".py",
   "mimetype": "text/x-python",
   "name": "python",
   "nbconvert_exporter": "python",
   "pygments_lexer": "ipython3",
   "version": "3.11.9"
  },
  "vscode": {
   "interpreter": {
    "hash": "31f2aee4e71d21fbe5cf8b01ff0e069b9275f58929596ceb00d14d90e3e16cd6"
   }
  }
 },
 "nbformat": 4,
 "nbformat_minor": 5
}
